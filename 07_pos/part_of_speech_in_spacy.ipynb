{
 "cells": [
  {
   "cell_type": "code",
   "execution_count": 1,
   "id": "f0042ce1",
   "metadata": {},
   "outputs": [],
   "source": [
    "import spacy"
   ]
  },
  {
   "cell_type": "markdown",
   "id": "1b3eac5b",
   "metadata": {},
   "source": [
    "# POS tags"
   ]
  },
  {
   "cell_type": "code",
   "execution_count": 3,
   "id": "fcf85663",
   "metadata": {},
   "outputs": [
    {
     "name": "stdout",
     "output_type": "stream",
     "text": [
      "Elon  |  PROPN  |  proper noun\n",
      "flew  |  VERB  |  verb\n",
      "to  |  ADP  |  adposition\n",
      "mars  |  NOUN  |  noun\n",
      "yesterday  |  NOUN  |  noun\n",
      ".  |  PUNCT  |  punctuation\n",
      "He  |  PRON  |  pronoun\n",
      "carried  |  VERB  |  verb\n",
      "biryani  |  ADJ  |  adjective\n",
      "masala  |  NOUN  |  noun\n",
      "with  |  ADP  |  adposition\n",
      "him  |  PRON  |  pronoun\n"
     ]
    }
   ],
   "source": [
    "nlp = spacy.load(\"en_core_web_sm\")\n",
    "doc = nlp(\"Elon flew to mars yesterday. He carried biryani masala with him\")\n",
    "\n",
    "for token in doc:\n",
    "    print(token,\" | \", token.pos_, \" | \", spacy.explain(token.pos_))"
   ]
  },
  {
   "cell_type": "markdown",
   "id": "628d9fb7",
   "metadata": {},
   "source": [
    "You can check https://v2.spacy.io/api/annotation for the complete list of pos categories in spacy.\n",
    "\n",
    "https://en.wikipedia.org/wiki/Preposition_and_postposition\n",
    "\n",
    "https://en.wikipedia.org/wiki/Part_of_speech"
   ]
  },
  {
   "cell_type": "markdown",
   "id": "3a3382d9",
   "metadata": {},
   "source": [
    "# Tags"
   ]
  },
  {
   "cell_type": "code",
   "execution_count": 7,
   "id": "8f86521a",
   "metadata": {},
   "outputs": [
    {
     "name": "stdout",
     "output_type": "stream",
     "text": [
      "Wow  |  INTJ  |  interjection  |  UH |  interjection\n",
      "!  |  PUNCT  |  punctuation  |  . |  punctuation mark, sentence closer\n",
      "Dr.  |  PROPN  |  proper noun  |  NNP |  noun, proper singular\n",
      "Strange  |  PROPN  |  proper noun  |  NNP |  noun, proper singular\n",
      "made  |  VERB  |  verb  |  VBD |  verb, past tense\n",
      "265  |  NUM  |  numeral  |  CD |  cardinal number\n",
      "million  |  NUM  |  numeral  |  CD |  cardinal number\n",
      "$  |  NUM  |  numeral  |  CD |  cardinal number\n",
      "on  |  ADP  |  adposition  |  IN |  conjunction, subordinating or preposition\n",
      "the  |  DET  |  determiner  |  DT |  determiner\n",
      "very  |  ADV  |  adverb  |  RB |  adverb\n",
      "first  |  ADJ  |  adjective  |  JJ |  adjective (English), other noun-modifier (Chinese)\n",
      "day  |  NOUN  |  noun  |  NN |  noun, singular or mass\n"
     ]
    }
   ],
   "source": [
    "doc = nlp(\"Wow! Dr. Strange made 265 million $ on the very first day\")\n",
    "\n",
    "for token in doc:\n",
    "    print(token,\" | \", token.pos_, \" | \", spacy.explain(token.pos_) , \n",
    "          \" | \", token.tag_, \"| \", spacy.explain(token.tag_))"
   ]
  },
  {
   "cell_type": "markdown",
   "id": "b3e5e5c4",
   "metadata": {},
   "source": [
    "## In below sentences Spacy figures out the past vs present tense for quit"
   ]
  },
  {
   "cell_type": "code",
   "execution_count": 8,
   "id": "4e35a2dd",
   "metadata": {},
   "outputs": [
    {
     "name": "stdout",
     "output_type": "stream",
     "text": [
      "quits | VBZ | verb, 3rd person singular present\n"
     ]
    }
   ],
   "source": [
    "doc = nlp(\"He quits the job\")\n",
    "\n",
    "print(doc[1].text, \"|\", doc[1].tag_, \"|\", spacy.explain(doc[1].tag_))"
   ]
  },
  {
   "cell_type": "markdown",
   "id": "4dc3e4b0",
   "metadata": {},
   "source": [
    "## Removing all SPACE, PUNCT and X token from text"
   ]
  },
  {
   "cell_type": "markdown",
   "id": "2c041438",
   "metadata": {},
   "source": [
    "Processing microsoft's earning report: https://www.microsoft.com/en-us/investor/earnings/FY-2023-Q2/press-release-webcast"
   ]
  },
  {
   "cell_type": "code",
   "execution_count": 9,
   "id": "ce175cc1",
   "metadata": {},
   "outputs": [],
   "source": [
    "earnings_text=\"\"\"Microsoft Corp. today announced the following results for the quarter ended December 31, 2022, as compared to the corresponding period of last fiscal year:\n",
    "\n",
    "·        Revenue was $52.7 billion and increased 2%  \n",
    "\n",
    "·        Operating income was $20.4 billion GAAP and $21.6 billion non-GAAP, and decreased 8% and 3%, respectively\n",
    "\n",
    "·        Net income was $16.4 billion GAAP and $17.4 billion non-GAAP, and decreased 12% and 7%, respectively\n",
    "\n",
    "·        Diluted earnings per share was $2.20 GAAP and $2.32 non-GAAP, and decreased 11% and 6%, respectively\n",
    "“The next major wave of computing is being born, as the Microsoft Cloud turns the world’s most advanced AI models into a new computing platform,” said Satya Nadella, chairman and chief executive officer of Microsoft. “We are committed to helping our customers use our platforms and tools to do more with less today and innovate for the future in the new era of AI.”\n",
    "\"\"\"\n",
    "\n",
    "doc = nlp(earnings_text)\n",
    "\n",
    "filtered_tokens = []\n",
    "\n",
    "for token in doc:\n",
    "    if token.pos_ not in [\"SPACE\", \"PUNCT\", \"X\"]:\n",
    "        filtered_tokens.append(token)"
   ]
  },
  {
   "cell_type": "code",
   "execution_count": 11,
   "id": "cc5c0c43",
   "metadata": {},
   "outputs": [
    {
     "data": {
      "text/plain": [
       "[Microsoft,\n",
       " Corp.,\n",
       " today,\n",
       " announced,\n",
       " the,\n",
       " following,\n",
       " results,\n",
       " for,\n",
       " the,\n",
       " quarter,\n",
       " ended,\n",
       " December,\n",
       " 31,\n",
       " 2022,\n",
       " as,\n",
       " compared,\n",
       " to,\n",
       " the,\n",
       " corresponding,\n",
       " period]"
      ]
     },
     "execution_count": 11,
     "metadata": {},
     "output_type": "execute_result"
    }
   ],
   "source": [
    "filtered_tokens[:20]"
   ]
  },
  {
   "cell_type": "code",
   "execution_count": 13,
   "id": "a44e4bba",
   "metadata": {},
   "outputs": [
    {
     "data": {
      "text/plain": [
       "{96: 10,\n",
       " 92: 43,\n",
       " 100: 17,\n",
       " 90: 9,\n",
       " 85: 12,\n",
       " 93: 21,\n",
       " 97: 22,\n",
       " 98: 2,\n",
       " 84: 14,\n",
       " 103: 10,\n",
       " 87: 7,\n",
       " 99: 7,\n",
       " 89: 13,\n",
       " 86: 4,\n",
       " 94: 2,\n",
       " 95: 3}"
      ]
     },
     "execution_count": 13,
     "metadata": {},
     "output_type": "execute_result"
    }
   ],
   "source": [
    "count = doc.count_by(spacy.attrs.POS)\n",
    "count"
   ]
  },
  {
   "cell_type": "code",
   "execution_count": 15,
   "id": "b23f724c",
   "metadata": {},
   "outputs": [
    {
     "name": "stdout",
     "output_type": "stream",
     "text": [
      "PROPN  |  10\n",
      "NOUN  |  43\n",
      "VERB  |  17\n",
      "DET  |  9\n",
      "ADP  |  12\n",
      "NUM  |  21\n",
      "PUNCT  |  22\n",
      "SCONJ  |  2\n",
      "ADJ  |  14\n",
      "SPACE  |  10\n",
      "AUX  |  7\n",
      "SYM  |  7\n",
      "CCONJ  |  13\n",
      "ADV  |  4\n",
      "PART  |  2\n",
      "PRON  |  3\n"
     ]
    }
   ],
   "source": [
    "for k , v in count.items():\n",
    "    print(doc.vocab[k].text ,\" | \" ,v)"
   ]
  },
  {
   "cell_type": "code",
   "execution_count": null,
   "id": "1ef1b142",
   "metadata": {},
   "outputs": [],
   "source": []
  }
 ],
 "metadata": {
  "kernelspec": {
   "display_name": "NLP-VENV",
   "language": "python",
   "name": "venv"
  },
  "language_info": {
   "codemirror_mode": {
    "name": "ipython",
    "version": 3
   },
   "file_extension": ".py",
   "mimetype": "text/x-python",
   "name": "python",
   "nbconvert_exporter": "python",
   "pygments_lexer": "ipython3",
   "version": "3.11.5"
  }
 },
 "nbformat": 4,
 "nbformat_minor": 5
}
