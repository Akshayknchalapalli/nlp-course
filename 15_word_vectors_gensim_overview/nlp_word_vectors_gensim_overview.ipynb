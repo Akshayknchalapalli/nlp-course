{
 "cells": [
  {
   "cell_type": "markdown",
   "id": "5c56c137",
   "metadata": {},
   "source": [
    "# Word Vectors Overview Using Gensim Library"
   ]
  },
  {
   "cell_type": "markdown",
   "id": "88fa8c4c",
   "metadata": {},
   "source": [
    "All gensim models are listed on this page: https://github.com/RaRe-Technologies/gensim-data"
   ]
  },
  {
   "cell_type": "code",
   "execution_count": 3,
   "id": "5d5848ba",
   "metadata": {},
   "outputs": [],
   "source": [
    "import gensim.downloader as api\n",
    "# This is a huge model (~1.6 gb) and it will take some time to load\n",
    "\n",
    "wv = api.load('word2vec-google-news-300')"
   ]
  },
  {
   "cell_type": "code",
   "execution_count": 2,
   "id": "c522d94d",
   "metadata": {},
   "outputs": [
    {
     "data": {
      "text/plain": [
       "0.729151"
      ]
     },
     "execution_count": 2,
     "metadata": {},
     "output_type": "execute_result"
    }
   ],
   "source": [
    "wv.similarity(w1=\"great\", w2=\"good\")"
   ]
  },
  {
   "cell_type": "code",
   "execution_count": null,
   "id": "4039689c",
   "metadata": {},
   "outputs": [],
   "source": [
    "wv.most_similar(\"good\")"
   ]
  },
  {
   "cell_type": "code",
   "execution_count": null,
   "id": "d8b9dd84",
   "metadata": {},
   "outputs": [],
   "source": [
    "wv.most_similar(\"dog\")"
   ]
  },
  {
   "cell_type": "code",
   "execution_count": null,
   "id": "b7491fc2",
   "metadata": {},
   "outputs": [],
   "source": [
    "wv.most_similar(positive=['king', 'woman'], negative=['man'], topn=5)"
   ]
  },
  {
   "cell_type": "code",
   "execution_count": null,
   "id": "aa8ad6ed",
   "metadata": {},
   "outputs": [],
   "source": [
    "wv.most_similar(positive=['france', 'berlin'], negative=['paris'], topn=5)"
   ]
  },
  {
   "cell_type": "code",
   "execution_count": null,
   "id": "5ef093cd",
   "metadata": {},
   "outputs": [],
   "source": [
    "wv.doesnt_match([\"facebook\", \"cat\", \"google\", \"microsoft\"])"
   ]
  },
  {
   "cell_type": "code",
   "execution_count": null,
   "id": "66410d94",
   "metadata": {},
   "outputs": [],
   "source": [
    "wv.doesnt_match([\"dog\", \"cat\", \"google\", \"mouse\"])"
   ]
  },
  {
   "cell_type": "markdown",
   "id": "4ba7b952",
   "metadata": {},
   "source": [
    "## Gensim: Glove"
   ]
  },
  {
   "cell_type": "markdown",
   "id": "67abc800",
   "metadata": {},
   "source": [
    "Stanford's page on GloVe: https://nlp.stanford.edu/projects/glove/"
   ]
  },
  {
   "cell_type": "code",
   "execution_count": null,
   "id": "a4885619",
   "metadata": {},
   "outputs": [],
   "source": [
    "glv = api.load(\"glove-twitter-25\")"
   ]
  },
  {
   "cell_type": "code",
   "execution_count": null,
   "id": "fb9fc993",
   "metadata": {},
   "outputs": [],
   "source": [
    "glv.most_similar(\"good\")"
   ]
  },
  {
   "cell_type": "code",
   "execution_count": null,
   "id": "73567ea0",
   "metadata": {},
   "outputs": [],
   "source": [
    "glv.doesnt_match(\"breakfast cereal dinner lunch\".split())"
   ]
  },
  {
   "cell_type": "code",
   "execution_count": null,
   "id": "3780bad6",
   "metadata": {},
   "outputs": [],
   "source": [
    "glv.doesnt_match(\"facebook cat google microsoft\".split())"
   ]
  },
  {
   "cell_type": "code",
   "execution_count": null,
   "id": "cbac9211",
   "metadata": {},
   "outputs": [],
   "source": [
    "glv.doesnt_match(\"banana grapes orange human\".split())"
   ]
  }
 ],
 "metadata": {
  "kernelspec": {
   "display_name": "NLP-VENV",
   "language": "python",
   "name": "venv"
  },
  "language_info": {
   "codemirror_mode": {
    "name": "ipython",
    "version": 3
   },
   "file_extension": ".py",
   "mimetype": "text/x-python",
   "name": "python",
   "nbconvert_exporter": "python",
   "pygments_lexer": "ipython3",
   "version": "3.11.5"
  }
 },
 "nbformat": 4,
 "nbformat_minor": 5
}
