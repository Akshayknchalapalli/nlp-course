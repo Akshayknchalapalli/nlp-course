{
 "cells": [
  {
   "cell_type": "code",
   "execution_count": 1,
   "id": "92d1da6d",
   "metadata": {},
   "outputs": [],
   "source": [
    "import re"
   ]
  },
  {
   "cell_type": "markdown",
   "id": "16cd535e",
   "metadata": {},
   "source": [
    "# Code for regex in chatbot"
   ]
  },
  {
   "cell_type": "code",
   "execution_count": 22,
   "id": "b6cd6bb1",
   "metadata": {},
   "outputs": [],
   "source": [
    "chat1 = 'Akshay: you ask lot of questions 😠  1235678912, abc@xyz.com'\n",
    "chat2 = 'Akshay: here it is: (123)-567-8912, abX_82@xyz.com'\n",
    "chat3 = 'Akshay: yes, phone: 1235678912 email: abc@xyz.com'"
   ]
  },
  {
   "cell_type": "code",
   "execution_count": 26,
   "id": "1cc7d148",
   "metadata": {},
   "outputs": [
    {
     "data": {
      "text/plain": [
       "['(123)-567-8912']"
      ]
     },
     "execution_count": 26,
     "metadata": {},
     "output_type": "execute_result"
    }
   ],
   "source": [
    "pattern1 = '\\d{10}|\\(\\d{3}\\)-\\d{3}-\\d{4}'\n",
    "\n",
    "match_1 = re.findall(pattern1, chat2)\n",
    "phone_number = match_1\n",
    "phone_number"
   ]
  },
  {
   "cell_type": "code",
   "execution_count": 28,
   "id": "f23e7ccd",
   "metadata": {},
   "outputs": [
    {
     "data": {
      "text/plain": [
       "['abc@xyz.com']"
      ]
     },
     "execution_count": 28,
     "metadata": {},
     "output_type": "execute_result"
    }
   ],
   "source": [
    "pattern2 = '[a-z0-9A-Z_]*@[a-z0-9A-Z]*\\.[a-zA-Z]*'\n",
    "\n",
    "match_2 = re.findall(pattern2, chat3)\n",
    "email = match_2\n",
    "email"
   ]
  },
  {
   "cell_type": "code",
   "execution_count": 29,
   "id": "d28aea6b",
   "metadata": {},
   "outputs": [],
   "source": [
    "chat1 = 'Akshay: Hello , I am having an issue with my order # 412889912'\n",
    "chat2 = 'Akshay: I have problem with my order number 412889912'\n",
    "chat3 = 'Akshay: My order 412889912 is having an issue , I was charged 300$ when online it says 280$'"
   ]
  },
  {
   "cell_type": "code",
   "execution_count": 31,
   "id": "177abfa3",
   "metadata": {},
   "outputs": [
    {
     "data": {
      "text/plain": [
       "['412889912']"
      ]
     },
     "execution_count": 31,
     "metadata": {},
     "output_type": "execute_result"
    }
   ],
   "source": [
    "pattern_3 = 'order[^\\d]*(\\d*)'\n",
    "\n",
    "match_3 = re.findall(pattern_3 , chat1)\n",
    "order_id = match_3\n",
    "order_id"
   ]
  },
  {
   "cell_type": "markdown",
   "id": "77a91dc8",
   "metadata": {},
   "source": [
    "#  Code for regex in information extraction(IE)"
   ]
  },
  {
   "cell_type": "code",
   "execution_count": 33,
   "id": "a2a0924d",
   "metadata": {},
   "outputs": [],
   "source": [
    "txt = '''Born\tElon Reeve Musk\n",
    "June 28, 1971 (age 52)\n",
    "Pretoria, Transvaal, South Africa\n",
    "Citizenship\t\n",
    "South Africa\n",
    "Canada\n",
    "United States\n",
    "Education\tUniversity of Pennsylvania (BA, BS)\n",
    "Title\t\n",
    "Founder, CEO, and chief engineer of SpaceX\n",
    "CEO and product architect of Tesla, Inc.\n",
    "Owner and CTO of Twitter\n",
    "President of the Musk Foundation\n",
    "Founder of The Boring Company, X Corp., and xAI\n",
    "Co-founder of Neuralink, OpenAI, Zip2, and X.com (part of PayPal)\n",
    "Spouses\t\n",
    "Justine Wilson\n",
    "​\n",
    "​(m. 2000; div. 2008)​\n",
    "Talulah Riley\n",
    "​\n",
    "​(m. 2010; div. 2012)​\n",
    "​\n",
    "​(m. 2013; div. 2016)​\n",
    "Partner\tGrimes (2018–2021)[1]\n",
    "Children\t11[a][3]\n",
    "Parents\t\n",
    "Errol Musk\n",
    "Maye Musk\n",
    "Family\tMusk family'''"
   ]
  },
  {
   "cell_type": "code",
   "execution_count": 38,
   "id": "8b33820f",
   "metadata": {},
   "outputs": [
    {
     "data": {
      "text/plain": [
       "['52']"
      ]
     },
     "execution_count": 38,
     "metadata": {},
     "output_type": "execute_result"
    }
   ],
   "source": [
    "pattern_4 = 'age.(\\d+)'\n",
    "\n",
    "match_4 = re.findall(pattern_4 , txt)\n",
    "age = match_4\n",
    "age"
   ]
  },
  {
   "cell_type": "code",
   "execution_count": 48,
   "id": "7c770e30",
   "metadata": {},
   "outputs": [
    {
     "data": {
      "text/plain": [
       "'Elon Reeve Musk'"
      ]
     },
     "execution_count": 48,
     "metadata": {},
     "output_type": "execute_result"
    }
   ],
   "source": [
    "pattern_5 = 'Born(.*)'\n",
    "\n",
    "match_5 = re.findall(pattern_5 , txt)\n",
    "full_name = match_5[0].strip()\n",
    "full_name"
   ]
  },
  {
   "cell_type": "code",
   "execution_count": 43,
   "id": "696f7fc0",
   "metadata": {},
   "outputs": [
    {
     "data": {
      "text/plain": [
       "'June 28, 1971'"
      ]
     },
     "execution_count": 43,
     "metadata": {},
     "output_type": "execute_result"
    }
   ],
   "source": [
    "pattern_6 = 'Born.*\\n(.*)\\(age'\n",
    "\n",
    "match_6 = re.findall(pattern_6 , txt)\n",
    "birth_date = match_6[0].strip()\n",
    "birth_date"
   ]
  },
  {
   "cell_type": "code",
   "execution_count": 44,
   "id": "062ba281",
   "metadata": {},
   "outputs": [
    {
     "data": {
      "text/plain": [
       "'Pretoria, Transvaal, South Africa'"
      ]
     },
     "execution_count": 44,
     "metadata": {},
     "output_type": "execute_result"
    }
   ],
   "source": [
    "pattern_7 = '\\(age.*\\n(.*)'\n",
    "\n",
    "match_7 = re.findall(pattern_7 , txt)\n",
    "birth_place = match_7[0].strip()\n",
    "birth_place"
   ]
  },
  {
   "cell_type": "code",
   "execution_count": 46,
   "id": "80e154fb",
   "metadata": {},
   "outputs": [],
   "source": [
    "def get_pattern_match(pattern , txt):\n",
    "    matches = re.findall(pattern , txt)\n",
    "    if matches:\n",
    "        return matches[0].strip()"
   ]
  },
  {
   "cell_type": "code",
   "execution_count": 47,
   "id": "810fd697",
   "metadata": {},
   "outputs": [
    {
     "data": {
      "text/plain": [
       "'Pretoria, Transvaal, South Africa'"
      ]
     },
     "execution_count": 47,
     "metadata": {},
     "output_type": "execute_result"
    }
   ],
   "source": [
    "get_pattern_match('\\(age.*\\n(.*)', txt)"
   ]
  },
  {
   "cell_type": "code",
   "execution_count": 51,
   "id": "3fbd877b",
   "metadata": {},
   "outputs": [],
   "source": [
    "def get_personal_information(txt):\n",
    "    age = get_pattern_match('age.(\\d+)' , txt)\n",
    "    full_name = get_pattern_match('Born(.*)' , txt)\n",
    "    birth_date = get_pattern_match('Born.*\\n(.*)\\(age' , txt)\n",
    "    birth_place = get_pattern_match('\\(age.*\\n(.*)' , txt)\n",
    "    return {\n",
    "        'age': int(age),\n",
    "        'name ': full_name.strip(),\n",
    "        'birth_date': birth_place.strip(),\n",
    "        'birth_place': birth_place.strip()\n",
    "    }"
   ]
  },
  {
   "cell_type": "code",
   "execution_count": 52,
   "id": "c9e4f3b8",
   "metadata": {},
   "outputs": [
    {
     "data": {
      "text/plain": [
       "{'age': 52,\n",
       " 'name ': 'Elon Reeve Musk',\n",
       " 'birth_date': 'Pretoria, Transvaal, South Africa',\n",
       " 'birth_place': 'Pretoria, Transvaal, South Africa'}"
      ]
     },
     "execution_count": 52,
     "metadata": {},
     "output_type": "execute_result"
    }
   ],
   "source": [
    "get_personal_information(txt)"
   ]
  },
  {
   "cell_type": "code",
   "execution_count": null,
   "id": "ec510d85",
   "metadata": {},
   "outputs": [],
   "source": []
  }
 ],
 "metadata": {
  "kernelspec": {
   "display_name": "NLP-VENV",
   "language": "python",
   "name": "venv"
  },
  "language_info": {
   "codemirror_mode": {
    "name": "ipython",
    "version": 3
   },
   "file_extension": ".py",
   "mimetype": "text/x-python",
   "name": "python",
   "nbconvert_exporter": "python",
   "pygments_lexer": "ipython3",
   "version": "3.11.5"
  }
 },
 "nbformat": 4,
 "nbformat_minor": 5
}
